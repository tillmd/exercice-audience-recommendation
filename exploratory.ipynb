{
 "cells": [
  {
   "cell_type": "markdown",
   "metadata": {},
   "source": [
    "#### Imports"
   ]
  },
  {
   "cell_type": "code",
   "execution_count": 1,
   "metadata": {
    "collapsed": false
   },
   "outputs": [],
   "source": [
    "import itertools\n",
    "import operator\n",
    "import pandas as pd\n",
    "from plot import plot_distribution\n",
    "from user import User\n",
    "from utils import get_counts\n",
    "from utils import get_distinct\n",
    "from utils import get_mean_popularity\n",
    "from utils import get_top_cooccurrence\n",
    "from utils import get_scores\n",
    "from utils import load_data"
   ]
  },
  {
   "cell_type": "code",
   "execution_count": 2,
   "metadata": {
    "collapsed": true
   },
   "outputs": [],
   "source": [
    "import matplotlib\n",
    "import matplotlib.pyplot as plt\n",
    "matplotlib.style.use('ggplot')\n",
    "\n",
    "VERT = \"#74d336\"\n",
    "BLEU = \"#31ace0\""
   ]
  },
  {
   "cell_type": "markdown",
   "metadata": {},
   "source": [
    "#### Loading the data"
   ]
  },
  {
   "cell_type": "code",
   "execution_count": 3,
   "metadata": {
    "collapsed": false
   },
   "outputs": [],
   "source": [
    "data = load_data()\n",
    "users = [User(i, tracks) for i, tracks in enumerate(data)]"
   ]
  },
  {
   "cell_type": "markdown",
   "metadata": {},
   "source": [
    "#### Basic stats"
   ]
  },
  {
   "cell_type": "code",
   "execution_count": 4,
   "metadata": {
    "collapsed": false
   },
   "outputs": [
    {
     "data": {
      "text/plain": [
       "10"
      ]
     },
     "execution_count": 4,
     "metadata": {},
     "output_type": "execute_result"
    }
   ],
   "source": [
    "# Number of users\n",
    "len(users)"
   ]
  },
  {
   "cell_type": "code",
   "execution_count": 5,
   "metadata": {
    "collapsed": false
   },
   "outputs": [
    {
     "data": {
      "text/plain": [
       "[50, 50, 50, 50, 50, 50, 50, 50, 50, 50]"
      ]
     },
     "execution_count": 5,
     "metadata": {},
     "output_type": "execute_result"
    }
   ],
   "source": [
    "# Number of tracks per user\n",
    "[len(user.tracks) for user in users]"
   ]
  },
  {
   "cell_type": "code",
   "execution_count": 6,
   "metadata": {
    "collapsed": false
   },
   "outputs": [
    {
     "data": {
      "text/plain": [
       "250"
      ]
     },
     "execution_count": 6,
     "metadata": {},
     "output_type": "execute_result"
    }
   ],
   "source": [
    "# Number of distinct tracks\n",
    "get_distinct(users, 'id')"
   ]
  },
  {
   "cell_type": "code",
   "execution_count": 7,
   "metadata": {
    "collapsed": false
   },
   "outputs": [
    {
     "data": {
      "text/plain": [
       "37"
      ]
     },
     "execution_count": 7,
     "metadata": {},
     "output_type": "execute_result"
    }
   ],
   "source": [
    "# Number of distinct artist\n",
    "get_distinct(users, 'artist')"
   ]
  },
  {
   "cell_type": "code",
   "execution_count": 8,
   "metadata": {
    "collapsed": false
   },
   "outputs": [
    {
     "data": {
      "text/plain": [
       "12"
      ]
     },
     "execution_count": 8,
     "metadata": {},
     "output_type": "execute_result"
    }
   ],
   "source": [
    "# Number of distinct genre\n",
    "get_distinct(users, 'genre')"
   ]
  },
  {
   "cell_type": "markdown",
   "metadata": {},
   "source": [
    "#### Tops"
   ]
  },
  {
   "cell_type": "code",
   "execution_count": 28,
   "metadata": {
    "collapsed": false,
    "scrolled": true
   },
   "outputs": [
    {
     "data": {
      "text/html": [
       "<div>\n",
       "<table border=\"1\" class=\"dataframe\">\n",
       "  <thead>\n",
       "    <tr style=\"text-align: right;\">\n",
       "      <th></th>\n",
       "      <th>1</th>\n",
       "      <th>0</th>\n",
       "    </tr>\n",
       "    <tr>\n",
       "      <th>0</th>\n",
       "      <th></th>\n",
       "      <th></th>\n",
       "    </tr>\n",
       "  </thead>\n",
       "  <tbody>\n",
       "    <tr>\n",
       "      <th>Duke Dumont</th>\n",
       "      <td>0.918638</td>\n",
       "      <td>4</td>\n",
       "    </tr>\n",
       "    <tr>\n",
       "      <th>Kaskade</th>\n",
       "      <td>0.750265</td>\n",
       "      <td>15</td>\n",
       "    </tr>\n",
       "    <tr>\n",
       "      <th>Stellardrone</th>\n",
       "      <td>0.699016</td>\n",
       "      <td>16</td>\n",
       "    </tr>\n",
       "    <tr>\n",
       "      <th>Confection</th>\n",
       "      <td>0.667384</td>\n",
       "      <td>20</td>\n",
       "    </tr>\n",
       "    <tr>\n",
       "      <th>Gossip</th>\n",
       "      <td>0.652559</td>\n",
       "      <td>8</td>\n",
       "    </tr>\n",
       "    <tr>\n",
       "      <th>Fred Falke</th>\n",
       "      <td>0.650885</td>\n",
       "      <td>14</td>\n",
       "    </tr>\n",
       "    <tr>\n",
       "      <th>M83</th>\n",
       "      <td>0.647604</td>\n",
       "      <td>16</td>\n",
       "    </tr>\n",
       "    <tr>\n",
       "      <th>Lenka</th>\n",
       "      <td>0.639941</td>\n",
       "      <td>12</td>\n",
       "    </tr>\n",
       "    <tr>\n",
       "      <th>Daft Punk</th>\n",
       "      <td>0.636427</td>\n",
       "      <td>22</td>\n",
       "    </tr>\n",
       "    <tr>\n",
       "      <th>Madonna</th>\n",
       "      <td>0.615609</td>\n",
       "      <td>12</td>\n",
       "    </tr>\n",
       "  </tbody>\n",
       "</table>\n",
       "</div>"
      ],
      "text/plain": [
       "                     1   0\n",
       "0                         \n",
       "Duke Dumont   0.918638   4\n",
       "Kaskade       0.750265  15\n",
       "Stellardrone  0.699016  16\n",
       "Confection    0.667384  20\n",
       "Gossip        0.652559   8\n",
       "Fred Falke    0.650885  14\n",
       "M83           0.647604  16\n",
       "Lenka         0.639941  12\n",
       "Daft Punk     0.636427  22\n",
       "Madonna       0.615609  12"
      ]
     },
     "execution_count": 28,
     "metadata": {},
     "output_type": "execute_result"
    }
   ],
   "source": [
    "# Artist sort by best mean score\n",
    "scores = get_mean_popularity(users, \"artist\")\n",
    "counts = get_counts(users, \"artist\")\n",
    "pd.DataFrame(scores).set_index(0).join(pd.DataFrame(counts)).head(10)"
   ]
  },
  {
   "cell_type": "code",
   "execution_count": 29,
   "metadata": {
    "collapsed": false
   },
   "outputs": [
    {
     "data": {
      "text/html": [
       "<div>\n",
       "<table border=\"1\" class=\"dataframe\">\n",
       "  <thead>\n",
       "    <tr style=\"text-align: right;\">\n",
       "      <th></th>\n",
       "      <th>1</th>\n",
       "      <th>0</th>\n",
       "    </tr>\n",
       "    <tr>\n",
       "      <th>0</th>\n",
       "      <th></th>\n",
       "      <th></th>\n",
       "    </tr>\n",
       "  </thead>\n",
       "  <tbody>\n",
       "    <tr>\n",
       "      <th>Acoustic</th>\n",
       "      <td>0.676906</td>\n",
       "      <td>36</td>\n",
       "    </tr>\n",
       "    <tr>\n",
       "      <th>Blues</th>\n",
       "      <td>0.614457</td>\n",
       "      <td>67</td>\n",
       "    </tr>\n",
       "    <tr>\n",
       "      <th>Electro</th>\n",
       "      <td>0.583838</td>\n",
       "      <td>83</td>\n",
       "    </tr>\n",
       "    <tr>\n",
       "      <th>Classical</th>\n",
       "      <td>0.536325</td>\n",
       "      <td>8</td>\n",
       "    </tr>\n",
       "    <tr>\n",
       "      <th>Jazz</th>\n",
       "      <td>0.528347</td>\n",
       "      <td>43</td>\n",
       "    </tr>\n",
       "    <tr>\n",
       "      <th>RnB</th>\n",
       "      <td>0.519434</td>\n",
       "      <td>93</td>\n",
       "    </tr>\n",
       "    <tr>\n",
       "      <th>Funk</th>\n",
       "      <td>0.512866</td>\n",
       "      <td>30</td>\n",
       "    </tr>\n",
       "    <tr>\n",
       "      <th>Rock</th>\n",
       "      <td>0.483596</td>\n",
       "      <td>30</td>\n",
       "    </tr>\n",
       "    <tr>\n",
       "      <th>Disco</th>\n",
       "      <td>0.469102</td>\n",
       "      <td>33</td>\n",
       "    </tr>\n",
       "    <tr>\n",
       "      <th>Vocal</th>\n",
       "      <td>0.430107</td>\n",
       "      <td>30</td>\n",
       "    </tr>\n",
       "  </tbody>\n",
       "</table>\n",
       "</div>"
      ],
      "text/plain": [
       "                  1   0\n",
       "0                      \n",
       "Acoustic   0.676906  36\n",
       "Blues      0.614457  67\n",
       "Electro    0.583838  83\n",
       "Classical  0.536325   8\n",
       "Jazz       0.528347  43\n",
       "RnB        0.519434  93\n",
       "Funk       0.512866  30\n",
       "Rock       0.483596  30\n",
       "Disco      0.469102  33\n",
       "Vocal      0.430107  30"
      ]
     },
     "execution_count": 29,
     "metadata": {},
     "output_type": "execute_result"
    }
   ],
   "source": [
    "# Genre sort by best mean score\n",
    "scores = get_mean_popularity(users, \"genre\")\n",
    "counts = get_counts(users, \"genre\")\n",
    "pd.DataFrame(scores).set_index(0).join(pd.DataFrame(counts)).head(10)"
   ]
  },
  {
   "cell_type": "markdown",
   "metadata": {},
   "source": [
    "#### Distribution"
   ]
  },
  {
   "cell_type": "code",
   "execution_count": 44,
   "metadata": {
    "collapsed": false
   },
   "outputs": [
    {
     "data": {
      "image/png": "[encoded data removed]",
      "text/plain": [
       "<matplotlib.figure.Figure at 0x7fc1f7613c10>"
      ]
     },
     "metadata": {},
     "output_type": "display_data"
    }
   ],
   "source": [
    "# Track scores distribution\n",
    "r_scores = get_scores(users, \"genre\", rounding=True)\n",
    "plt.hist(sum(r_scores.values(), []), color=VERT)\n",
    "plt.show()"
   ]
  },
  {
   "cell_type": "code",
   "execution_count": 49,
   "metadata": {
    "collapsed": false
   },
   "outputs": [
    {
     "data": {
      "image/png": "[encoded data removed]",
      "text/plain": [
       "<matplotlib.figure.Figure at 0x7fc1f72e1dd0>"
      ]
     },
     "metadata": {},
     "output_type": "display_data"
    }
   ],
   "source": [
    "plt.hist(r_scores['Electro'], color=VERT)\n",
    "plt.show()"
   ]
  },
  {
   "cell_type": "code",
   "execution_count": 50,
   "metadata": {
    "collapsed": false
   },
   "outputs": [
    {
     "data": {
      "image/png": "[encoded data removed]",
      "text/plain": [
       "<matplotlib.figure.Figure at 0x7fc1f7171fd0>"
      ]
     },
     "metadata": {},
     "output_type": "display_data"
    }
   ],
   "source": [
    "plt.hist(r_scores['RnB'], color=VERT)\n",
    "plt.show()"
   ]
  },
  {
   "cell_type": "markdown",
   "metadata": {},
   "source": [
    "RnB and Electro does not have the same distribution, and RnB seems to be a risky genre."
   ]
  },
  {
   "cell_type": "markdown",
   "metadata": {},
   "source": [
    "#### Correlation"
   ]
  },
  {
   "cell_type": "code",
   "execution_count": 58,
   "metadata": {
    "collapsed": false
   },
   "outputs": [
    {
     "name": "stdout",
     "output_type": "stream",
     "text": [
      "(u'Daft Punk', u'Miguel Campbell') 7\n",
      "(u'Kaskade', u'Stellardrone') 6\n",
      "(u'Gossip', u'Stellardrone') 6\n",
      "(u'Bob Sinclar', u'Miguel Campbell') 6\n",
      "(u'Miguel Campbell', u'Stellardrone') 6\n",
      "(u'Confection', u'Daft Punk') 5\n",
      "(u'Confection', u'Stellardrone') 5\n",
      "(u'Lenka', u'Stellardrone') 5\n",
      "(u'Daft Punk', u'Stellardrone') 4\n",
      "(u'Kaskade', u'Lenka') 4\n",
      "(u'Duke Dumont', u'Stellardrone') 4\n",
      "(u'Gossip', u'Miguel Campbell') 4\n",
      "(u'Stellardrone', u'The Offspring') 4\n",
      "(u'Coldplay', u'Daft Punk') 4\n",
      "(u'M83', u'Stellardrone') 4\n",
      "(u'Michael Jackson', u'Stellardrone') 4\n",
      "(u'Kaskade', u'Miguel Campbell') 4\n",
      "(u'Michael Jackson', u'Miguel Campbell') 4\n",
      "(u'Muse', u'Stellardrone') 4\n",
      "(u'Eminem', u'Miguel Campbell') 4\n"
     ]
    }
   ],
   "source": [
    "get_top_cooccurrence(users, field='artist', min_score=0.8, limit=20)"
   ]
  },
  {
   "cell_type": "markdown",
   "metadata": {},
   "source": [
    "We check how many times two artists appear for a same user with a fixed `min_score`"
   ]
  },
  {
   "cell_type": "code",
   "execution_count": 56,
   "metadata": {
    "collapsed": false,
    "scrolled": true
   },
   "outputs": [
    {
     "data": {
      "image/png": "[encoded data removed]",
      "text/plain": [
       "<matplotlib.figure.Figure at 0x7fc1f70c3a10>"
      ]
     },
     "metadata": {},
     "output_type": "display_data"
    }
   ],
   "source": [
    "# Two artists highly correlated\n",
    "r_scores = get_scores(users, \"artist\", rounding=True)\n",
    "plot_distribution(r_scores, 'Miguel Campbell')\n",
    "plot_distribution(r_scores, 'Daft Punk', color=BLEU, alpha=0.7)\n",
    "plt.show()"
   ]
  },
  {
   "cell_type": "markdown",
   "metadata": {},
   "source": [
    "#### The standard deviation is almost the same for every user"
   ]
  },
  {
   "cell_type": "code",
   "execution_count": 31,
   "metadata": {
    "collapsed": false
   },
   "outputs": [
    {
     "data": {
      "text/plain": [
       "[0.26670720778742241,\n",
       " 0.28086952218563671,\n",
       " 0.28405179598068475,\n",
       " 0.27965010549352715,\n",
       " 0.29807011840183578,\n",
       " 0.25344469875260389,\n",
       " 0.25766450940783503,\n",
       " 0.27828697713814504,\n",
       " 0.25676341495761307,\n",
       " 0.27965331333895077]"
      ]
     },
     "execution_count": 31,
     "metadata": {},
     "output_type": "execute_result"
    }
   ],
   "source": [
    "[pd.DataFrame(user.tracks).score.std() for user in users]"
   ]
  }
 ],
 "metadata": {
  "kernelspec": {
   "display_name": "Python 2",
   "language": "python",
   "name": "python2"
  },
  "language_info": {
   "codemirror_mode": {
    "name": "ipython",
    "version": 2
   },
   "file_extension": ".py",
   "mimetype": "text/x-python",
   "name": "python",
   "nbconvert_exporter": "python",
   "pygments_lexer": "ipython2",
   "version": "2.7.10"
  }
 },
 "nbformat": 4,
 "nbformat_minor": 2
}
